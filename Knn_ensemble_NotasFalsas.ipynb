{
 "cells": [
  {
   "cell_type": "code",
   "execution_count": 1,
   "id": "0de58a8a",
   "metadata": {},
   "outputs": [],
   "source": [
    "import pandas as pd\n",
    "import numpy as np\n",
    "import matplotlib.pyplot as plt\n",
    "\n",
    "import warnings\n",
    "warnings.filterwarnings(\"ignore\")"
   ]
  },
  {
   "cell_type": "markdown",
   "id": "2c90e6a4",
   "metadata": {},
   "source": [
    "### Este notebook tem como objetivo praticar o uso do KNN no contexto de classificação e do ensemble RandomForestClassifier.\n",
    "<br>\n",
    "<br>\n",
    "Para este trabalho estaremos utilizando um dataset referente a autenticação de notas bancárias.\n",
    "<br>\n",
    "<br>\n",
    "Em sua construção foram utilizadas imagens capturadas de 1372 notas verdadeiras e falsas e através de uma ferramenta foram compactadas em onduletas que geraram os dados encontrados logo a seguir.\n",
    "<br>\n",
    "<br>\n",
    "Para mais informações sobre o data set clique: <p><a href=\"https://www.openml.org/d/1462\">Aqui! <p> "
   ]
  },
  {
   "cell_type": "code",
   "execution_count": 2,
   "id": "be7d338c",
   "metadata": {},
   "outputs": [],
   "source": [
    "df = pd.read_csv(\"notas_bancarias.csv\")"
   ]
  },
  {
   "cell_type": "code",
   "execution_count": 3,
   "id": "75d1b1d9",
   "metadata": {},
   "outputs": [
    {
     "data": {
      "text/html": [
       "<div>\n",
       "<style scoped>\n",
       "    .dataframe tbody tr th:only-of-type {\n",
       "        vertical-align: middle;\n",
       "    }\n",
       "\n",
       "    .dataframe tbody tr th {\n",
       "        vertical-align: top;\n",
       "    }\n",
       "\n",
       "    .dataframe thead th {\n",
       "        text-align: right;\n",
       "    }\n",
       "</style>\n",
       "<table border=\"1\" class=\"dataframe\">\n",
       "  <thead>\n",
       "    <tr style=\"text-align: right;\">\n",
       "      <th></th>\n",
       "      <th>V1</th>\n",
       "      <th>V2</th>\n",
       "      <th>V3</th>\n",
       "      <th>V4</th>\n",
       "      <th>Class</th>\n",
       "    </tr>\n",
       "  </thead>\n",
       "  <tbody>\n",
       "    <tr>\n",
       "      <th>0</th>\n",
       "      <td>3.62160</td>\n",
       "      <td>8.66610</td>\n",
       "      <td>-2.8073</td>\n",
       "      <td>-0.44699</td>\n",
       "      <td>1</td>\n",
       "    </tr>\n",
       "    <tr>\n",
       "      <th>1</th>\n",
       "      <td>4.54590</td>\n",
       "      <td>8.16740</td>\n",
       "      <td>-2.4586</td>\n",
       "      <td>-1.46210</td>\n",
       "      <td>1</td>\n",
       "    </tr>\n",
       "    <tr>\n",
       "      <th>2</th>\n",
       "      <td>3.86600</td>\n",
       "      <td>-2.63830</td>\n",
       "      <td>1.9242</td>\n",
       "      <td>0.10645</td>\n",
       "      <td>1</td>\n",
       "    </tr>\n",
       "    <tr>\n",
       "      <th>3</th>\n",
       "      <td>3.45660</td>\n",
       "      <td>9.52280</td>\n",
       "      <td>-4.0112</td>\n",
       "      <td>-3.59440</td>\n",
       "      <td>1</td>\n",
       "    </tr>\n",
       "    <tr>\n",
       "      <th>4</th>\n",
       "      <td>0.32924</td>\n",
       "      <td>-4.45520</td>\n",
       "      <td>4.5718</td>\n",
       "      <td>-0.98880</td>\n",
       "      <td>1</td>\n",
       "    </tr>\n",
       "    <tr>\n",
       "      <th>...</th>\n",
       "      <td>...</td>\n",
       "      <td>...</td>\n",
       "      <td>...</td>\n",
       "      <td>...</td>\n",
       "      <td>...</td>\n",
       "    </tr>\n",
       "    <tr>\n",
       "      <th>1367</th>\n",
       "      <td>0.40614</td>\n",
       "      <td>1.34920</td>\n",
       "      <td>-1.4501</td>\n",
       "      <td>-0.55949</td>\n",
       "      <td>2</td>\n",
       "    </tr>\n",
       "    <tr>\n",
       "      <th>1368</th>\n",
       "      <td>-1.38870</td>\n",
       "      <td>-4.87730</td>\n",
       "      <td>6.4774</td>\n",
       "      <td>0.34179</td>\n",
       "      <td>2</td>\n",
       "    </tr>\n",
       "    <tr>\n",
       "      <th>1369</th>\n",
       "      <td>-3.75030</td>\n",
       "      <td>-13.45860</td>\n",
       "      <td>17.5932</td>\n",
       "      <td>-2.77710</td>\n",
       "      <td>2</td>\n",
       "    </tr>\n",
       "    <tr>\n",
       "      <th>1370</th>\n",
       "      <td>-3.56370</td>\n",
       "      <td>-8.38270</td>\n",
       "      <td>12.3930</td>\n",
       "      <td>-1.28230</td>\n",
       "      <td>2</td>\n",
       "    </tr>\n",
       "    <tr>\n",
       "      <th>1371</th>\n",
       "      <td>-2.54190</td>\n",
       "      <td>-0.65804</td>\n",
       "      <td>2.6842</td>\n",
       "      <td>1.19520</td>\n",
       "      <td>2</td>\n",
       "    </tr>\n",
       "  </tbody>\n",
       "</table>\n",
       "<p>1372 rows × 5 columns</p>\n",
       "</div>"
      ],
      "text/plain": [
       "           V1        V2       V3       V4  Class\n",
       "0     3.62160   8.66610  -2.8073 -0.44699      1\n",
       "1     4.54590   8.16740  -2.4586 -1.46210      1\n",
       "2     3.86600  -2.63830   1.9242  0.10645      1\n",
       "3     3.45660   9.52280  -4.0112 -3.59440      1\n",
       "4     0.32924  -4.45520   4.5718 -0.98880      1\n",
       "...       ...       ...      ...      ...    ...\n",
       "1367  0.40614   1.34920  -1.4501 -0.55949      2\n",
       "1368 -1.38870  -4.87730   6.4774  0.34179      2\n",
       "1369 -3.75030 -13.45860  17.5932 -2.77710      2\n",
       "1370 -3.56370  -8.38270  12.3930 -1.28230      2\n",
       "1371 -2.54190  -0.65804   2.6842  1.19520      2\n",
       "\n",
       "[1372 rows x 5 columns]"
      ]
     },
     "execution_count": 3,
     "metadata": {},
     "output_type": "execute_result"
    }
   ],
   "source": [
    "df"
   ]
  },
  {
   "cell_type": "code",
   "execution_count": 4,
   "id": "986df72a",
   "metadata": {},
   "outputs": [
    {
     "name": "stdout",
     "output_type": "stream",
     "text": [
      "<class 'pandas.core.frame.DataFrame'>\n",
      "RangeIndex: 1372 entries, 0 to 1371\n",
      "Data columns (total 5 columns):\n",
      " #   Column  Non-Null Count  Dtype  \n",
      "---  ------  --------------  -----  \n",
      " 0   V1      1372 non-null   float64\n",
      " 1   V2      1372 non-null   float64\n",
      " 2   V3      1372 non-null   float64\n",
      " 3   V4      1372 non-null   float64\n",
      " 4   Class   1372 non-null   int64  \n",
      "dtypes: float64(4), int64(1)\n",
      "memory usage: 53.7 KB\n"
     ]
    }
   ],
   "source": [
    "#Conferindo algumas infos:\n",
    "df.info()"
   ]
  },
  {
   "cell_type": "markdown",
   "id": "852559c8",
   "metadata": {},
   "source": [
    "As classes 1 são notas comuns. As classes 2 são notas forjadas. Vamos utilizar aprendizagem supervisionada no contexto de classificação para tentar aprender a identificá-las."
   ]
  },
  {
   "cell_type": "code",
   "execution_count": 5,
   "id": "cb472406",
   "metadata": {},
   "outputs": [
    {
     "data": {
      "text/html": [
       "<div>\n",
       "<style scoped>\n",
       "    .dataframe tbody tr th:only-of-type {\n",
       "        vertical-align: middle;\n",
       "    }\n",
       "\n",
       "    .dataframe tbody tr th {\n",
       "        vertical-align: top;\n",
       "    }\n",
       "\n",
       "    .dataframe thead th {\n",
       "        text-align: right;\n",
       "    }\n",
       "</style>\n",
       "<table border=\"1\" class=\"dataframe\">\n",
       "  <thead>\n",
       "    <tr style=\"text-align: right;\">\n",
       "      <th></th>\n",
       "      <th>V1</th>\n",
       "      <th>V2</th>\n",
       "      <th>V3</th>\n",
       "      <th>V4</th>\n",
       "    </tr>\n",
       "  </thead>\n",
       "  <tbody>\n",
       "    <tr>\n",
       "      <th>0</th>\n",
       "      <td>3.62160</td>\n",
       "      <td>8.66610</td>\n",
       "      <td>-2.8073</td>\n",
       "      <td>-0.44699</td>\n",
       "    </tr>\n",
       "    <tr>\n",
       "      <th>1</th>\n",
       "      <td>4.54590</td>\n",
       "      <td>8.16740</td>\n",
       "      <td>-2.4586</td>\n",
       "      <td>-1.46210</td>\n",
       "    </tr>\n",
       "    <tr>\n",
       "      <th>2</th>\n",
       "      <td>3.86600</td>\n",
       "      <td>-2.63830</td>\n",
       "      <td>1.9242</td>\n",
       "      <td>0.10645</td>\n",
       "    </tr>\n",
       "    <tr>\n",
       "      <th>3</th>\n",
       "      <td>3.45660</td>\n",
       "      <td>9.52280</td>\n",
       "      <td>-4.0112</td>\n",
       "      <td>-3.59440</td>\n",
       "    </tr>\n",
       "    <tr>\n",
       "      <th>4</th>\n",
       "      <td>0.32924</td>\n",
       "      <td>-4.45520</td>\n",
       "      <td>4.5718</td>\n",
       "      <td>-0.98880</td>\n",
       "    </tr>\n",
       "    <tr>\n",
       "      <th>...</th>\n",
       "      <td>...</td>\n",
       "      <td>...</td>\n",
       "      <td>...</td>\n",
       "      <td>...</td>\n",
       "    </tr>\n",
       "    <tr>\n",
       "      <th>1367</th>\n",
       "      <td>0.40614</td>\n",
       "      <td>1.34920</td>\n",
       "      <td>-1.4501</td>\n",
       "      <td>-0.55949</td>\n",
       "    </tr>\n",
       "    <tr>\n",
       "      <th>1368</th>\n",
       "      <td>-1.38870</td>\n",
       "      <td>-4.87730</td>\n",
       "      <td>6.4774</td>\n",
       "      <td>0.34179</td>\n",
       "    </tr>\n",
       "    <tr>\n",
       "      <th>1369</th>\n",
       "      <td>-3.75030</td>\n",
       "      <td>-13.45860</td>\n",
       "      <td>17.5932</td>\n",
       "      <td>-2.77710</td>\n",
       "    </tr>\n",
       "    <tr>\n",
       "      <th>1370</th>\n",
       "      <td>-3.56370</td>\n",
       "      <td>-8.38270</td>\n",
       "      <td>12.3930</td>\n",
       "      <td>-1.28230</td>\n",
       "    </tr>\n",
       "    <tr>\n",
       "      <th>1371</th>\n",
       "      <td>-2.54190</td>\n",
       "      <td>-0.65804</td>\n",
       "      <td>2.6842</td>\n",
       "      <td>1.19520</td>\n",
       "    </tr>\n",
       "  </tbody>\n",
       "</table>\n",
       "<p>1372 rows × 4 columns</p>\n",
       "</div>"
      ],
      "text/plain": [
       "           V1        V2       V3       V4\n",
       "0     3.62160   8.66610  -2.8073 -0.44699\n",
       "1     4.54590   8.16740  -2.4586 -1.46210\n",
       "2     3.86600  -2.63830   1.9242  0.10645\n",
       "3     3.45660   9.52280  -4.0112 -3.59440\n",
       "4     0.32924  -4.45520   4.5718 -0.98880\n",
       "...       ...       ...      ...      ...\n",
       "1367  0.40614   1.34920  -1.4501 -0.55949\n",
       "1368 -1.38870  -4.87730   6.4774  0.34179\n",
       "1369 -3.75030 -13.45860  17.5932 -2.77710\n",
       "1370 -3.56370  -8.38270  12.3930 -1.28230\n",
       "1371 -2.54190  -0.65804   2.6842  1.19520\n",
       "\n",
       "[1372 rows x 4 columns]"
      ]
     },
     "execution_count": 5,
     "metadata": {},
     "output_type": "execute_result"
    }
   ],
   "source": [
    "#Vamos dividir em treino e teste nossos dados:\n",
    "\n",
    "#Preparando as variáveis:\n",
    "\n",
    "dff = df.copy() #Criando uma cópia do df.\n",
    "dff = dff.drop(columns=[\"Class\"]) #dropando a target do dataframe copiado.\n",
    "dff"
   ]
  },
  {
   "cell_type": "code",
   "execution_count": 6,
   "id": "a5ef1174",
   "metadata": {},
   "outputs": [
    {
     "name": "stdout",
     "output_type": "stream",
     "text": [
      "[[  3.6216    8.6661   -2.8073   -0.44699]\n",
      " [  4.5459    8.1674   -2.4586   -1.4621 ]\n",
      " [  3.866    -2.6383    1.9242    0.10645]\n",
      " ...\n",
      " [ -3.7503  -13.4586   17.5932   -2.7771 ]\n",
      " [ -3.5637   -8.3827   12.393    -1.2823 ]\n",
      " [ -2.5419   -0.65804   2.6842    1.1952 ]]\n",
      "[[1]\n",
      " [1]\n",
      " [1]\n",
      " ...\n",
      " [2]\n",
      " [2]\n",
      " [2]]\n"
     ]
    }
   ],
   "source": [
    "X = dff.values #Atribuindo a X nossas variáveis preditivas:\n",
    "y = df.Class.values.reshape(-1,1) #Atribuindo a y nossa target.\n",
    "\n",
    "#Conferindo:\n",
    "\n",
    "print(X)\n",
    "print(y)"
   ]
  },
  {
   "cell_type": "code",
   "execution_count": 7,
   "id": "6478ba95",
   "metadata": {},
   "outputs": [],
   "source": [
    "from sklearn.model_selection import train_test_split"
   ]
  },
  {
   "cell_type": "code",
   "execution_count": 8,
   "id": "3479d62a",
   "metadata": {},
   "outputs": [
    {
     "name": "stdout",
     "output_type": "stream",
     "text": [
      "(960, 4)\n",
      "(960, 1)\n"
     ]
    }
   ],
   "source": [
    "#Dividindo os dados:\n",
    "\n",
    "X_train,X_test,y_train,y_test = train_test_split(X,y,test_size = 0.30) #30% para os dados de teste\n",
    "print(X_train.shape)\n",
    "print(y_train.shape)"
   ]
  },
  {
   "cell_type": "markdown",
   "id": "538560cb",
   "metadata": {},
   "source": [
    "Com os dados divididos vamos começar a trabalhar com a classificação.\n",
    "<br>\n",
    "Vamos utilizar um gridsearch com alguns algoritmos para encontrar os melhores parâmetros:"
   ]
  },
  {
   "cell_type": "code",
   "execution_count": 9,
   "id": "590d8208",
   "metadata": {},
   "outputs": [],
   "source": [
    "from sklearn.model_selection import GridSearchCV\n",
    "from sklearn.ensemble import RandomForestClassifier\n",
    "from sklearn.neighbors import KNeighborsClassifier\n",
    "from sklearn.metrics import f1_score, confusion_matrix"
   ]
  },
  {
   "cell_type": "code",
   "execution_count": 10,
   "id": "747e5938",
   "metadata": {},
   "outputs": [],
   "source": [
    "#Utilizando o ensemble RandomForest:\n",
    "\n",
    "e_base = RandomForestClassifier()\n",
    "\n",
    "param_tree = {\"max_depth\":range(1,16),\"max_leaf_nodes\":range(1,5)} #Definindo alguns parâmetros para o gridsearch:\n",
    "\n",
    "grid = GridSearchCV(e_base, param_tree, scoring = \"f1\", cv=10) #Avaliando inicialmente com a métrica f1:"
   ]
  },
  {
   "cell_type": "code",
   "execution_count": 11,
   "id": "b8f2ee7c",
   "metadata": {},
   "outputs": [
    {
     "data": {
      "text/plain": [
       "GridSearchCV(cv=10, estimator=RandomForestClassifier(),\n",
       "             param_grid={'max_depth': range(1, 16),\n",
       "                         'max_leaf_nodes': range(1, 5)},\n",
       "             scoring='f1')"
      ]
     },
     "execution_count": 11,
     "metadata": {},
     "output_type": "execute_result"
    }
   ],
   "source": [
    "#Fit:\n",
    "\n",
    "grid.fit(X_train, y_train)"
   ]
  },
  {
   "cell_type": "code",
   "execution_count": 12,
   "id": "e75ba4d0",
   "metadata": {},
   "outputs": [
    {
     "data": {
      "text/plain": [
       "{'max_depth': 14, 'max_leaf_nodes': 4}"
      ]
     },
     "execution_count": 12,
     "metadata": {},
     "output_type": "execute_result"
    }
   ],
   "source": [
    "#Conferindo os melhores parâmetros:\n",
    "\n",
    "grid.best_params_"
   ]
  },
  {
   "cell_type": "code",
   "execution_count": 13,
   "id": "5218bc1b",
   "metadata": {},
   "outputs": [
    {
     "data": {
      "text/plain": [
       "0.9424097754714221"
      ]
     },
     "execution_count": 13,
     "metadata": {},
     "output_type": "execute_result"
    }
   ],
   "source": [
    "#Conferindo a melhor nota de f1:\n",
    "\n",
    "grid.best_score_"
   ]
  },
  {
   "cell_type": "code",
   "execution_count": 14,
   "id": "9f774390",
   "metadata": {},
   "outputs": [],
   "source": [
    "#Utilizando KNN no gridsearch:\n",
    "\n",
    "e_base_k = KNeighborsClassifier()\n",
    "param_knn = {\"n_neighbors\":range(1,9)}\n",
    "grid = GridSearchCV(e_base_k, param_knn, scoring = \"f1\", cv=10)"
   ]
  },
  {
   "cell_type": "code",
   "execution_count": 15,
   "id": "165127cd",
   "metadata": {},
   "outputs": [
    {
     "data": {
      "text/plain": [
       "GridSearchCV(cv=10, estimator=KNeighborsClassifier(),\n",
       "             param_grid={'n_neighbors': range(1, 9)}, scoring='f1')"
      ]
     },
     "execution_count": 15,
     "metadata": {},
     "output_type": "execute_result"
    }
   ],
   "source": [
    "#Fit\n",
    "\n",
    "grid.fit(X_train, y_train)"
   ]
  },
  {
   "cell_type": "code",
   "execution_count": 16,
   "id": "ed0cc142",
   "metadata": {},
   "outputs": [
    {
     "data": {
      "text/plain": [
       "{'n_neighbors': 4}"
      ]
     },
     "execution_count": 16,
     "metadata": {},
     "output_type": "execute_result"
    }
   ],
   "source": [
    "#Melhor parâmetro:\n",
    "\n",
    "grid.best_params_"
   ]
  },
  {
   "cell_type": "code",
   "execution_count": 17,
   "id": "714cc607",
   "metadata": {},
   "outputs": [
    {
     "data": {
      "text/plain": [
       "1.0"
      ]
     },
     "execution_count": 17,
     "metadata": {},
     "output_type": "execute_result"
    }
   ],
   "source": [
    "#Melhor score de f1:\n",
    "\n",
    "grid.best_score_"
   ]
  },
  {
   "cell_type": "markdown",
   "id": "d6aa823a",
   "metadata": {},
   "source": [
    "Vemos que a nota de f1 com relação ao KNN indica um overfitting, vamos tirar a limpo no nosso teste final ambos os algoritmos:"
   ]
  },
  {
   "cell_type": "code",
   "execution_count": 18,
   "id": "df12173f",
   "metadata": {},
   "outputs": [],
   "source": [
    "#Começando pelo random forest:\n",
    "\n",
    "rand_forest = RandomForestClassifier(max_depth =14, max_leaf_nodes= 4)"
   ]
  },
  {
   "cell_type": "code",
   "execution_count": 19,
   "id": "34382a6d",
   "metadata": {},
   "outputs": [
    {
     "data": {
      "text/plain": [
       "RandomForestClassifier(max_depth=14, max_leaf_nodes=4)"
      ]
     },
     "execution_count": 19,
     "metadata": {},
     "output_type": "execute_result"
    }
   ],
   "source": [
    "rand_forest.fit(X_train, y_train)"
   ]
  },
  {
   "cell_type": "code",
   "execution_count": 20,
   "id": "6175f884",
   "metadata": {},
   "outputs": [],
   "source": [
    "#Salvando numa variável separada as predições feitas nas variáveis explicativas do dataset de teste:\n",
    "\n",
    "y_predict = rand_forest.predict(X_test)"
   ]
  },
  {
   "cell_type": "code",
   "execution_count": 21,
   "id": "fe32a511",
   "metadata": {},
   "outputs": [
    {
     "data": {
      "text/plain": [
       "0.9270386266094421"
      ]
     },
     "execution_count": 21,
     "metadata": {},
     "output_type": "execute_result"
    }
   ],
   "source": [
    "f1_score(y_true = y_test, y_pred = y_predict)"
   ]
  },
  {
   "cell_type": "code",
   "execution_count": 22,
   "id": "1d8783a0",
   "metadata": {},
   "outputs": [
    {
     "data": {
      "text/plain": [
       "array([[216,   9],\n",
       "       [ 25, 162]], dtype=int64)"
      ]
     },
     "execution_count": 22,
     "metadata": {},
     "output_type": "execute_result"
    }
   ],
   "source": [
    "confusion_matrix(y_true = y_test, y_pred = y_predict)"
   ]
  },
  {
   "cell_type": "markdown",
   "id": "d33619df",
   "metadata": {},
   "source": [
    "Podemos perceber que a nota encontrada nos dados de teste continua próxima a encontrada no treino. A nossa predição retornou um bom valor de f1, mas que nesse caso específico tem pormenores. Na identificação de fraudes a confusion_matrix nos mostra que temos 25 falsos positivos e 9 falsos negativos. Significa dizer que neste universo possível, 25 são alarmes falsos, ou seja, não são notas falsas, e 9 eram fraudes e não foram detectadas.\n",
    "<br>\n",
    "<br> \n",
    "A medida que o algoritmo fosse sendo alimentado com mais dados alcançaríamos aprendizagens melhores. No entanto o resultado é bem satisfatório para um universo pequeno de informações."
   ]
  },
  {
   "cell_type": "markdown",
   "id": "80f552f1",
   "metadata": {},
   "source": [
    "Vamos testar o KNN para identificarmos se houve realmente um overfitting:"
   ]
  },
  {
   "cell_type": "code",
   "execution_count": 23,
   "id": "02a9905d",
   "metadata": {},
   "outputs": [],
   "source": [
    "knn = KNeighborsClassifier(n_neighbors = 4)"
   ]
  },
  {
   "cell_type": "code",
   "execution_count": 24,
   "id": "12d0b6d4",
   "metadata": {},
   "outputs": [
    {
     "data": {
      "text/plain": [
       "KNeighborsClassifier(n_neighbors=4)"
      ]
     },
     "execution_count": 24,
     "metadata": {},
     "output_type": "execute_result"
    }
   ],
   "source": [
    "knn.fit(X_train,y_train)"
   ]
  },
  {
   "cell_type": "code",
   "execution_count": 25,
   "id": "e490f03e",
   "metadata": {},
   "outputs": [],
   "source": [
    "y_knn_pred = knn.predict(X_test)"
   ]
  },
  {
   "cell_type": "code",
   "execution_count": 26,
   "id": "e117003d",
   "metadata": {},
   "outputs": [
    {
     "data": {
      "text/plain": [
       "1.0"
      ]
     },
     "execution_count": 26,
     "metadata": {},
     "output_type": "execute_result"
    }
   ],
   "source": [
    "f1_score(y_true = y_test, y_pred = y_knn_pred)"
   ]
  },
  {
   "cell_type": "code",
   "execution_count": 27,
   "id": "635a6a5f",
   "metadata": {},
   "outputs": [
    {
     "data": {
      "text/plain": [
       "array([[225,   0],\n",
       "       [  0, 187]], dtype=int64)"
      ]
     },
     "execution_count": 27,
     "metadata": {},
     "output_type": "execute_result"
    }
   ],
   "source": [
    "confusion_matrix(y_true = y_test, y_pred = y_knn_pred)"
   ]
  },
  {
   "cell_type": "markdown",
   "id": "24930f6b",
   "metadata": {},
   "source": [
    "Diferente do que pensávamos o KNN não \"overfitou\" os dados de treino, ele de fato pode aprender. Isso é perceptível pelos fit ter sido nos dados de treinamento e com a aprendizagem nestes dados o algoritmo foi capaz de fazer a predição com perfeição nos dados de teste, sendo ainda melhor que os resultados no Ensemble de árvores. "
   ]
  }
 ],
 "metadata": {
  "kernelspec": {
   "display_name": "Python 3",
   "language": "python",
   "name": "python3"
  },
  "language_info": {
   "codemirror_mode": {
    "name": "ipython",
    "version": 3
   },
   "file_extension": ".py",
   "mimetype": "text/x-python",
   "name": "python",
   "nbconvert_exporter": "python",
   "pygments_lexer": "ipython3",
   "version": "3.8.8"
  }
 },
 "nbformat": 4,
 "nbformat_minor": 5
}
